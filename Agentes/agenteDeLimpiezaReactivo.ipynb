{
 "cells": [
  {
   "cell_type": "markdown",
   "metadata": {},
   "source": [
    "### 1.- Dependecias"
   ]
  },
  {
   "cell_type": "code",
   "execution_count": 1,
   "metadata": {},
   "outputs": [],
   "source": [
    "import agentpy as ap\n",
    "import matplotlib.pyplot as plt\n",
    "import numpy as np\n",
    "import IPython\n",
    "import seaborn as sns"
   ]
  },
  {
   "cell_type": "markdown",
   "metadata": {},
   "source": [
    "### 2.- Definición de Agentes"
   ]
  },
  {
   "cell_type": "code",
   "execution_count": null,
   "metadata": {},
   "outputs": [],
   "source": [
    "# Agentes de Limpieza\n",
    "class Cleaner(ap.Agent):\n",
    "    def setup(self):\n",
    "        # Direccion en el eje x -1 izquierda, 0 no se mueve, 1 derecha\n",
    "        self.xDireccion = 0\n",
    "        # Direccion en el eje y -1 arriba, 0 no se mueve, 1 abajo\n",
    "        self.yDireccion = 0\n",
    "\n",
    "    def setup_rules(self, color, xlim, ylim):\n",
    "\n",
    "        self.xlim = xlim\n",
    "        self.ylim = ylim\n",
    "        self.color = color\n",
    "\n",
    "    def get_position(self, world):\n",
    "\n",
    "        self.xPosition = world.room.position(self)[0]\n",
    "        self.yPosition = world.room.position(self)[1]\n",
    "\n",
    "        return self.xPosition, self.yPosition\n",
    "\n",
    "    def get_next_position(self, world):\n",
    "\n",
    "        self.get_position(world)\n",
    "        self.xDireccion, self.yDireccion = np.random.choice([-1, 0, 1], size=2)\n",
    "\n",
    "        if self.xDireccion == 0 and self.yDireccion == 0:\n",
    "            self.xDireccion, self.yDireccion = np.random.choice([-1, 1], size=2)\n",
    "\n",
    "        elif self.xDireccion != 0 and self.yDireccion != 0:\n",
    "            if np.random.choice([True, False]):\n",
    "                self.xDireccion = 0\n",
    "            else:\n",
    "                self.yDireccion = 0\n",
    "\n",
    "        if (\n",
    "            (self.xPosition + self.xDireccion < 0)\n",
    "            or (self.xPosition + self.xDireccion > self.xlim)\n",
    "            or (self.yPosition + self.yDireccion < 0)\n",
    "            or (self.yPosition + self.yDireccion > self.ylim)\n",
    "        ):\n",
    "            return [-1]\n",
    "        else:\n",
    "            nextPositionState = world.agents[\n",
    "                ((self.xPosition + self.xDireccion), (self.yPosition + self.yDireccion))\n",
    "            ].condition\n",
    "\n",
    "            nextPositionStates = []\n",
    "            for i in nextPositionState:\n",
    "                nextPositionStates.append(i)\n",
    "        return nextPositionStates"
   ]
  }
 ],
 "metadata": {
  "kernelspec": {
   "display_name": "Python 3",
   "language": "python",
   "name": "python3"
  },
  "language_info": {
   "codemirror_mode": {
    "name": "ipython",
    "version": 3
   },
   "file_extension": ".py",
   "mimetype": "text/x-python",
   "name": "python",
   "nbconvert_exporter": "python",
   "pygments_lexer": "ipython3",
   "version": "3.13.0"
  }
 },
 "nbformat": 4,
 "nbformat_minor": 2
}
